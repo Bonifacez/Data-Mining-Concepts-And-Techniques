{
 "cells": [
  {
   "cell_type": "markdown",
   "metadata": {},
   "source": [
    "## 其他算法\n",
    "\n",
    "### 遗传算法\n",
    "规则总体通过交叉和变异操作“进化”，直到总体中所有的规则都满足指定的阈值。\n",
    "**模糊集方法**隶属度函数替换连续值属性的“脆弱的”阈值。\n",
    "### 半监督学习\n",
    "存在大量无标号的数据时，半监督学习使用有标号和无标号数据建立分类器。包括自我训练和协同训练。\n",
    "### 主动学习\n",
    "适合训练集丰富，但是label稀缺和难以获得。\n",
    "### 迁移学习"
   ]
  }
 ],
 "metadata": {
  "kernelspec": {
   "display_name": "Python 3",
   "language": "python",
   "name": "python3"
  },
  "language_info": {
   "codemirror_mode": {
    "name": "ipython",
    "version": 3
   },
   "file_extension": ".py",
   "mimetype": "text/x-python",
   "name": "python",
   "nbconvert_exporter": "python",
   "pygments_lexer": "ipython3",
   "version": "3.7.6"
  }
 },
 "nbformat": 4,
 "nbformat_minor": 2
}
