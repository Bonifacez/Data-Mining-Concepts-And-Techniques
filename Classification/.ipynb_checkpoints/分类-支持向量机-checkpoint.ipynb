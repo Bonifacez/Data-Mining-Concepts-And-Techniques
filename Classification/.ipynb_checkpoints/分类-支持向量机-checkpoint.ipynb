{
 "cells": [
  {
   "cell_type": "markdown",
   "metadata": {},
   "source": [
    "## 此处给出SVM的详细推导\n",
    "[here](../Book/从零推导支持向量机.pdf)\n",
    "\n",
    "![](images/SVM.JPEG)"
   ]
  },
  {
   "cell_type": "code",
   "execution_count": 1,
   "metadata": {},
   "outputs": [],
   "source": [
    "from sklearn import datasets, metrics\n",
    "import numpy as np, pandas as pd\n",
    "from sklearn.model_selection import train_test_split\n",
    "from sklearn import svm"
   ]
  },
  {
   "cell_type": "code",
   "execution_count": 2,
   "metadata": {},
   "outputs": [],
   "source": [
    "data_iris = datasets.load_iris()\n",
    "data = data_iris['data']\n",
    "label = data_iris['target']\n",
    "X_train,X_val,Y_train,Y_val = train_test_split(data,label, test_size = 0.3, random_state = 0)\n",
    "del data,label"
   ]
  },
  {
   "cell_type": "code",
   "execution_count": 3,
   "metadata": {},
   "outputs": [],
   "source": [
    "svm_model = svm.SVC(gamma='auto', kernel='linear') # kernel ‘linear’, ‘poly’, ‘rbf’, ‘sigmoid’, ‘precomputed’\n",
    "svm_model.fit(X_train,Y_train)\n",
    "\n",
    "prediction = svm_model.predict(X_val)"
   ]
  },
  {
   "cell_type": "code",
   "execution_count": 4,
   "metadata": {},
   "outputs": [
    {
     "name": "stdout",
     "output_type": "stream",
     "text": [
      "0.975983436853002\n"
     ]
    }
   ],
   "source": [
    "print(metrics.f1_score(Y_val,prediction,average='macro'))"
   ]
  }
 ],
 "metadata": {
  "kernelspec": {
   "display_name": "Python 3",
   "language": "python",
   "name": "python3"
  },
  "language_info": {
   "codemirror_mode": {
    "name": "ipython",
    "version": 3
   },
   "file_extension": ".py",
   "mimetype": "text/x-python",
   "name": "python",
   "nbconvert_exporter": "python",
   "pygments_lexer": "ipython3",
   "version": "3.7.6"
  }
 },
 "nbformat": 4,
 "nbformat_minor": 2
}
