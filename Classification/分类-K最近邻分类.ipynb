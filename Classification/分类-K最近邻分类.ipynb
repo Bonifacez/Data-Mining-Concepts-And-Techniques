{
 "cells": [
  {
   "cell_type": "markdown",
   "metadata": {},
   "source": [
    "<script type=\"text/javascript\" src=\"http://cdn.mathjax.org/mathjax/latest/MathJax.js?config=default\"></script>\n",
    "## 分类-KNearestNeighbor\n",
    "\n",
    "训练样本使用n个特征来描述，每一个样本就是在n维空间的一个点，所有样本都存放在n维的空间中。每个点计算与所有其他剩余点的欧几里得距离(**可以被替换为曼哈顿距离或者其他度量**)：\n",
    "$$ dist(X_1, X_2) = \\sqrt{\\sum_{i=1}^{n}(x_{1i} - x_{2i})^2} $$\n",
    "\n",
    "借助label的结果，选择离X点最近的K个点来将样本空间中的点分类，将n维空间中的点分为m类(m等于label的去重后的个数)\n",
    "\n",
    "注意：为了避免n维的样本空间中，每个维度的单位度量不一样，需要对**数据归一化跟缺失值处理**\n",
    "\n"
   ]
  },
  {
   "cell_type": "code",
   "execution_count": 1,
   "metadata": {},
   "outputs": [],
   "source": [
    "from sklearn import datasets, metrics\n",
    "import numpy as np, pandas as pd\n",
    "from sklearn.model_selection import train_test_split\n",
    "from sklearn.preprocessing import StandardScaler\n",
    "from sklearn import neighbors"
   ]
  },
  {
   "cell_type": "code",
   "execution_count": 2,
   "metadata": {},
   "outputs": [],
   "source": [
    "data_iris = datasets.load_iris()\n",
    "data = pd.DataFrame(StandardScaler().fit_transform(data_iris['data']))\n",
    "label = data_iris['target']\n",
    "X_train,X_val,Y_train,Y_val = train_test_split(data,label, test_size = 0.3, random_state = 0)\n",
    "del data,label"
   ]
  },
  {
   "cell_type": "code",
   "execution_count": 3,
   "metadata": {},
   "outputs": [
    {
     "name": "stdout",
     "output_type": "stream",
     "text": [
      "0.975983436853002\n"
     ]
    }
   ],
   "source": [
    "knn_model = neighbors.KNeighborsClassifier(n_neighbors = 5)\n",
    "knn_model.fit(X_train,Y_train)\n",
    "\n",
    "prediction = knn_model.predict(X_val)\n",
    "print(metrics.f1_score(Y_val,prediction,average='macro'))"
   ]
  }
 ],
 "metadata": {
  "kernelspec": {
   "display_name": "Python 3",
   "language": "python",
   "name": "python3"
  },
  "language_info": {
   "codemirror_mode": {
    "name": "ipython",
    "version": 3
   },
   "file_extension": ".py",
   "mimetype": "text/x-python",
   "name": "python",
   "nbconvert_exporter": "python",
   "pygments_lexer": "ipython3",
   "version": "3.7.6"
  }
 },
 "nbformat": 4,
 "nbformat_minor": 2
}
