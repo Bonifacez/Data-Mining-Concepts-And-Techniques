{
 "cells": [
  {
   "cell_type": "markdown",
   "metadata": {},
   "source": [
    "<script type=\"text/javascript\" src=\"http://cdn.mathjax.org/mathjax/latest/MathJax.js?config=default\"></script>\n",
    "## 什么是聚类分析？\n",
    "把一个数据对象划分成子集的过程。它的作用在于能够发现事先未知的群组发现。\n",
    "\n",
    "在图像识别，web搜索，生物学和安全中，都有应用\n",
    "\n",
    "图像：比如手写字体识别，有的人写2，会给下面带一个小圈，使用聚类确定2的子类，来基于子类的多个模型，能够提高整体识别的准确率。\n",
    "\n",
    "web搜索：由于web网页数量巨大，关键词搜索常常会返回大量对象，使用聚类将结果分组，以简明、容易访问的方式提交结果。\n",
    "\n",
    "聚类又称为数据分割，它根据数据的相似性把大量数据集合划分成组。\n",
    "\n",
    "常见的算法有：KMeans，KMedodis，等\n",
    "\n",
    "## 对聚类分析的要求\n",
    "* 可伸缩性\n",
    "* 处理不同属性类型的能力\n",
    "* 发现任意形状的簇\n",
    "* 对于确定输入参数的领域知识的要求\n",
    "* 处理噪声数据的能力\n",
    "* 增量聚类和输入次序不敏感\n",
    "* 聚类高维数据的能力\n",
    "* 基于约束的聚类\n",
    "* 可解释性和可用性\n",
    "* 划分准则\n",
    "* 簇的分离性\n",
    "* 相似性度量\n",
    "* 聚类空间"
   ]
  },
  {
   "cell_type": "markdown",
   "metadata": {},
   "source": [
    "## KNN\n",
    "\n",
    "算法如下，使用$ E = \\sum_{i=1}^{k}\\sum_{p\\in C_i}^{}dist(p,c_i)^2 $来作为距离函数,p样本点，c是距离\n",
    "![](images/KNN.png)\n",
    "![](images/KNN2.png)\n",
    "\n",
    "\"+\"号就是聚类的中心\n",
    "\n",
    "**缺点**：\n",
    "对离群值很敏感，数据需要预处理，需要归一化，无法对缺失值处理"
   ]
  },
  {
   "cell_type": "markdown",
   "metadata": {},
   "source": [
    "## K-中心点\n",
    "\n",
    "跟KNN的重点是，KNN是"
   ]
  },
  {
   "cell_type": "code",
   "execution_count": null,
   "metadata": {},
   "outputs": [],
   "source": []
  },
  {
   "cell_type": "code",
   "execution_count": null,
   "metadata": {},
   "outputs": [],
   "source": []
  },
  {
   "cell_type": "code",
   "execution_count": null,
   "metadata": {},
   "outputs": [],
   "source": []
  },
  {
   "cell_type": "code",
   "execution_count": null,
   "metadata": {},
   "outputs": [],
   "source": []
  }
 ],
 "metadata": {
  "kernelspec": {
   "display_name": "Python 3",
   "language": "python",
   "name": "python3"
  },
  "language_info": {
   "codemirror_mode": {
    "name": "ipython",
    "version": 3
   },
   "file_extension": ".py",
   "mimetype": "text/x-python",
   "name": "python",
   "nbconvert_exporter": "python",
   "pygments_lexer": "ipython3",
   "version": "3.7.6"
  }
 },
 "nbformat": 4,
 "nbformat_minor": 2
}
