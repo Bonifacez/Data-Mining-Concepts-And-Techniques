{
 "cells": [
  {
   "cell_type": "code",
   "execution_count": 12,
   "metadata": {},
   "outputs": [],
   "source": [
    "import numpy as np\n",
    "from sklearn.datasets import load_iris\n",
    "import matplotlib.pyplot as plt\n",
    "import seaborn as sns\n",
    "import warnings; warnings.filterwarnings('ignore')\n",
    "import scipy.stats as stats\n",
    "import scipy"
   ]
  },
  {
   "cell_type": "markdown",
   "metadata": {},
   "source": [
    "<script type=\"text/javascript\" src=\"http://cdn.mathjax.org/mathjax/latest/MathJax.js?config=default\"></script>\n",
    "# 引言\n",
    "在聚类、离群点分析和最近邻分类等数据挖掘的应用中，需要评估对象之间相互比较的相似或不相似程度。有时候可以从中寻找Data Leakage。\n",
    "\n",
    "离群点分析也是基于聚类技术，把可能的离群点看做与其他对象高度相似的对象。\n",
    "\n",
    "## 数据结构\n",
    "假设我们有 $n$ 个对象（比如人，商品），被 $p$ 个属性（又称*维*或者*特征*，如年龄身高体重）所刻画。对象是$x_1 = (x_{11},x_{12},\\cdots, x_{1p}), x_2 = (x_{21},x_{22},\\cdots, x_{2p})$，其中$x_{ij}$是对象$x_i$的第$j$个属性的值。\n",
    "\n",
    "基于内存的聚类和最近近邻算法都在如下两种数据结构上运行：\n",
    "\n",
    "**数据矩阵**：或称对象 - 属性结构。一共存放 ${n}$ 个数据对象，$\\textbf{n}$ ，不是$\\textbf{n}\\times \\textbf{n}$个！！！！！\n",
    "<img src=\"images/矩阵1.png\" style=\"zoom:50%;\" />\n",
    "\n",
    "**相异性矩阵**：或称对象 - 对象结构。存放$n$个对象两两之间的邻近程度。\n",
    "<img src=\"images/矩阵2.png\" style=\"zoom:50%;\" />\n",
    "$d(i,j)$是对象 $i$ 与 $j$ 之间的相异性（差别的度量），$d(i,j)$ 是非负数，并且 $d(i,i) = 0，d(j,i) = d(i, j)$。\n",
    "\n",
    "相似程度等于$$sim(i,j) = 1 - d(i,j)$$\n",
    "\n",
    "### 类别属性的邻近性度量\n",
    "不匹配率如下：$$ d(i,j) = \\frac{p - m}{p} $$\n",
    "m是匹配的数目，（即 i 和 j 取值**相同**的属性数），而 p 是刻画对象的属性总数。我们可以通过赋予 m 较大的权重，或者给有较多状态的属性的对象，匹配更大的权重来增重 m 的影响。\n",
    "\n",
    "\n",
    "假如有如下两列数据，分别对应为$[1,2,3,4],[A,B,C,A]$,则对应的数据矩阵为（令：m = 1，p = 1）\n",
    "\n",
    "$$\n",
    "\\left[\n",
    " \\begin{matrix}\n",
    "   1 &  &   \\\\\n",
    "    & 1 &    \\\\\n",
    "    &  & 1   \\\\\n",
    "   1 &  &  \n",
    "  \\end{matrix} \n",
    "\\right]\n",
    "$$\n",
    "\n",
    "则对应的相异性矩阵为：\n",
    "$$\n",
    "\\left[\n",
    " \\begin{matrix}\n",
    "   0 &  & &  \\\\\n",
    "   1 & 0 &  &  \\\\\n",
    "   1 & 1 & 0  & \\\\\n",
    "   0 & 1 & 1 & 0\n",
    "  \\end{matrix} \n",
    "\\right]\n",
    "$$\n",
    "相似性可以用一下公式计算：\n",
    "$$ sim(i,j) = \\frac{m}{p} $$\n"
   ]
  },
  {
   "cell_type": "code",
   "execution_count": 47,
   "metadata": {},
   "outputs": [
    {
     "data": {
      "text/plain": [
       "[(0, 0), (1, 1), (2, 2), (3, 0)]"
      ]
     },
     "execution_count": 47,
     "metadata": {},
     "output_type": "execute_result"
    }
   ],
   "source": [
    "List1 = [0,1,2,3]\n",
    "List2 = [0,1,2,0]\n",
    "pair_list = list(zip(List1,List2))\n",
    "#pair_list.extend(zip(kk,k))\n",
    "pair_list"
   ]
  },
  {
   "cell_type": "code",
   "execution_count": 48,
   "metadata": {},
   "outputs": [
    {
     "name": "stdout",
     "output_type": "stream",
     "text": [
      "  (0, 0)\t1.0\n",
      "  (1, 1)\t1.0\n",
      "  (2, 2)\t1.0\n",
      "  (3, 0)\t1.0\n"
     ]
    }
   ],
   "source": [
    "nodes, ids = np.unique(pair_list, return_inverse=True)\n",
    "del pair_list\n",
    "ids = np.unique(ids.reshape(-1, 2),axis=0)\n",
    "inc_mat = scipy.sparse.coo_matrix((np.ones(shape=(len(ids),)),(ids[:, 0], ids[:, 1])))\n",
    "inc_mat = inc_mat.tocsr()\n",
    "print(inc_mat)"
   ]
  },
  {
   "cell_type": "markdown",
   "metadata": {},
   "source": [
    "### 二元属性的邻近度量属性\n",
    "* 由于二元属性只有两种状态，0 或 1，其中0表示该属性不出现，1表示出现。并且二元属性有两种性质**对称和不对称性**。\n",
    "<img src=\"images/二元属性列联表.png\" style=\"zoom:50%;\" />\n",
    "\n",
    "\n",
    "**对称性**，相异性为：$$d(i,j) = \\frac{r+s}{q+r+s+t}$$\n",
    "**非对称的二元相异性**，其中负匹配数被认为是不重要的。$$d(i,j) = \\frac{r+s}{q+r+s}$$\n",
    "**非对称的二元相似性**，可用如下公式，也被称为$Jaccard$系数。$$d(i,j) = \\frac{q}{q+r+s}$$\n",
    "\n",
    "e.g: \n",
    "<img src=\"images/例子1.png\" style=\"zoom:50%;\" />\n",
    "<img src=\"images/例子2.png\" style=\"zoom:50%;\" />\n",
    "\n",
    "### 数值属性的相异性：闵可夫斯基距离\n",
    "**欧几里得距离**:直线距离\n",
    "$$d(i,j) = \\sqrt{(x_{i1}-x_{j1})^2+(x_{i2}-x_{j2})^2+\\cdots+(x_{ip}-x_{jp})^2}$$\n",
    "若每个变量能够根据重要性赋予权值：**加权欧几里得距离**\n",
    "$$d(i,j) = \\sqrt{w_1(x_{i1}-x_{j1})^2+w_2(x_{i2}-x_{j2})^2+\\cdots+w_p(x_{ip}-x_{jp})^2}$$\n",
    "\n",
    "**曼哈顿距离**：街区距离\n",
    "$$d(i,j) = |x_{i1}-x_{j1}|+|x_{i2}-x_{j2}|+\\cdots+|x_{ip}-x_{jp}|$$\n",
    "**闵可夫斯基距离**: 是前两个的推广，又称$L_p$**范数**\n",
    "$$d(i,j) = ((x_{i1}-x_{j1})^p+(x_{i2}-x_{j2})^p+\\cdots+(x_{ip}-x_{jp})^p)^{1/p}$$\n",
    "\n"
   ]
  },
  {
   "cell_type": "markdown",
   "metadata": {},
   "source": [
    "### 序数属性的邻近性度量\n",
    "* 第$i$个对象为 $x_{if}$ ，有$M_f$个有序状态，表示$ 1, \\cdots, M_f$。对应的排位 $r_{if}\\in \\{ 1, \\cdots, M_f\\}$取代$x_{if}$\n",
    "* 由于每个序数属性都可以由不同的状态数，所以通常需要将每个属性的值域映射到 [0,1] 上，以便每个值都有相同的权重。$$z_{if} = \\frac{r_{if}-1}{M_f - 1}$$\n",
    "\n",
    "* 使用前面的数值相异性计算。\n",
    "\n",
    "e.g:\n",
    "\n",
    "<img src=\"images/例子3.png\" style=\"zoom:50%;\" />"
   ]
  },
  {
   "cell_type": "markdown",
   "metadata": {},
   "source": [
    "### 余弦相似性：矩阵一定是稀疏的\n",
    "**此处不再是相异性，并且是非度量测度，其他的是度量**\n",
    "\n",
    "可用于比较文档，或针对给定查询词向量或者文档排序。稀疏结构的应用包括信息检索，文本文档聚类，生物学分类和基因特征映射。\n",
    "$$sim(x,y) = \\frac{x \\cdot y}{||x|| \\cdot ||y||}$$\n",
    "其中，||x|| 是向量 x = (x_1, x_2, \\cdots, x_p) 的欧几里得范数，定义为 \\sqrt{x_1^2 + x_2^2 + \\cdots + x_p^2}。余弦值为 0 表示没有匹配。越接近 1 ，匹配度越大。\n",
    "\n",
    "e.g:\n",
    "\n",
    "**两个词频向量的余弦相似性** 假设 $x$ 和 $y$ 是两个词频向量。$x = (5,0,3,0,2,0,0,2,0,0)$ 和 $y = (3,0,2,0,1,1,0,1,0,1)$。$x$ 和 $y$ 的相似性如何？\n",
    "可得 $$sim(x,y) = 0.94$$\n",
    "\n",
    "**特征为二值属性时**，余弦相似性函数可以用共享特征或属性解释（the cosine similarity function can be interpreted in terms of shared features or attributes）。\n",
    "\n",
    "$$ sim(x,y) = \\frac{x\\cdot y}{x\\cdot x + y\\cdot y - x\\cdot y} $$\n",
    "\n",
    "这是 $x$ 和 $y$ 所共有的属性个数 $x$ 或 $y$ 所具有的属性个数之间的比率。被称为$Tanimoto$系数。"
   ]
  }
 ],
 "metadata": {
  "kernelspec": {
   "display_name": "Python 3",
   "language": "python",
   "name": "python3"
  },
  "language_info": {
   "codemirror_mode": {
    "name": "ipython",
    "version": 3
   },
   "file_extension": ".py",
   "mimetype": "text/x-python",
   "name": "python",
   "nbconvert_exporter": "python",
   "pygments_lexer": "ipython3",
   "version": "3.7.6"
  }
 },
 "nbformat": 4,
 "nbformat_minor": 2
}
