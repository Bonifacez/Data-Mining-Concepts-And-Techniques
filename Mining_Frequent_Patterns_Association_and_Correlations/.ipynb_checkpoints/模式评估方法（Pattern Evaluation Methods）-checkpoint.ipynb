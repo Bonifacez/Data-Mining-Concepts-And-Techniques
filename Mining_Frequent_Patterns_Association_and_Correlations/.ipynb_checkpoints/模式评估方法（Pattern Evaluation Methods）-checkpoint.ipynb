{
 "cells": [
  {
   "cell_type": "markdown",
   "metadata": {},
   "source": [
    "# 模式评估方法（Pattern Evaluation Methods）\n",
    "\n",
    "Apriori 和 FP-Growth 使用支持度 - 置信度框架，有时候会产生一些没用的关联。\n",
    "\n",
    "使用多种方法评估关联，就很重要。\n",
    "\n",
    "## 提升度(lift)\n",
    "**定义**：项集A的出现**独立**于项集B的出现，如果$P(A\\cup B) = P(A)P(B)$。否则，作为事件，项集A和项集B是**依赖的**和**相关的**。\n",
    "\n",
    "$$ lift(A,B) = \\frac{P(A \\cup B)}{P(A)P(B)}$$\n",
    "\n",
    "结果若等于1，则它们之间没有相关性。大于1，正相关，小于1，负相关。\n",
    "\n",
    "## 卡方检验\n",
    "\n",
    "## 全置信度\n",
    "$$ all_conf(A,B) = \\frac{sup(A\\cup B)}{ max\\{ sup(A),sup(B)\\} } = min\\{P(A|B),P(B|A)\\}$$\n",
    "\n",
    "## 最大置信度\n",
    "$$ max\\_conf(A,B) = max\\{P(A|B),P(B|A)\\} $$\n",
    "\n",
    "## Kulczynski（Kulc）度量\n",
    "$$ Kulc(A,B) = \\frac{1}{2}(P(A|B)+P(B|A)) $$\n",
    "\n",
    "## 余弦度量\n",
    "$$ cosine(A,B) = \\sqrt{P(A|B)\\times  P(B|A)} $$\n",
    "\n",
    "全置信度、最大置信度、Kulc度量、余弦度量的度量值都在$[0,1]$，值越大，说明联系越稠密"
   ]
  },
  {
   "cell_type": "markdown",
   "metadata": {},
   "source": [
    "如：\n",
    "![](images/example.JPEG)"
   ]
  }
 ],
 "metadata": {
  "kernelspec": {
   "display_name": "Python 3",
   "language": "python",
   "name": "python3"
  },
  "language_info": {
   "codemirror_mode": {
    "name": "ipython",
    "version": 3
   },
   "file_extension": ".py",
   "mimetype": "text/x-python",
   "name": "python",
   "nbconvert_exporter": "python",
   "pygments_lexer": "ipython3",
   "version": "3.7.6"
  }
 },
 "nbformat": 4,
 "nbformat_minor": 2
}
